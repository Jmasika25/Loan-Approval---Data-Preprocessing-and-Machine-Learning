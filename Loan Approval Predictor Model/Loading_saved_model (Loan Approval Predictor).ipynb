{
  "nbformat": 4,
  "nbformat_minor": 0,
  "metadata": {
    "colab": {
      "provenance": []
    },
    "kernelspec": {
      "name": "python3",
      "display_name": "Python 3"
    },
    "language_info": {
      "name": "python"
    }
  },
  "cells": [
    {
      "cell_type": "code",
      "execution_count": null,
      "metadata": {
        "id": "XHHZFg7RSTvc"
      },
      "outputs": [],
      "source": [
        "import gradio as gr\n",
        "import pandas as pd\n",
        "import joblib"
      ]
    },
    {
      "cell_type": "code",
      "source": [
        "model = joblib.load('/content/model_pipeline(2).pkl')"
      ],
      "metadata": {
        "id": "6wX7JUIoSuPO"
      },
      "execution_count": null,
      "outputs": []
    },
    {
      "cell_type": "code",
      "source": [
        "# Creating a function to predict\n",
        "def predict_loan(\n",
        "    person_age, person_gender, person_education, person_income,\n",
        "       person_emp_exp, person_home_ownership, loan_amnt, loan_intent,\n",
        "       loan_int_rate, loan_percent_income, cb_person_cred_hist_length,\n",
        "       credit_score, previous_loan_defaults_on_file):\n",
        "  try:\n",
        "    df_input = pd.DataFrame([{\n",
        "        'person_age': person_age, 'person_gender': person_gender, 'person_education': person_education , 'person_income': person_income,\n",
        "        'person_emp_exp':person_emp_exp, 'person_home_ownership': person_home_ownership, 'loan_amnt': loan_amnt, 'loan_intent': loan_intent,\n",
        "        'loan_int_rate':loan_int_rate , 'loan_percent_income': loan_percent_income, 'cb_person_cred_hist_length': cb_person_cred_hist_length,\n",
        "        'credit_score': credit_score, 'previous_loan_defaults_on_file':previous_loan_defaults_on_file\n",
        "    }])\n",
        "    pred = model.predict(df_input)[0]\n",
        "    return \"Approved\" if pred == 1 else \"Not approved\"\n",
        "  except Exception as e:\n",
        "    return f\"Error during Prediction: {str(e)}\""
      ],
      "metadata": {
        "id": "MJHjR7VRTOuh"
      },
      "execution_count": null,
      "outputs": []
    },
    {
      "cell_type": "code",
      "source": [
        "demo = gr.Interface(fn=predict_loan,\n",
        "                   inputs=[\n",
        "                       gr.Number(label=\"Age\"),\n",
        "                       gr.Dropdown([\"male\", \"female\"], label=\"Gender\"),\n",
        "                       gr.Textbox(label = \"level of education\"),\n",
        "                       gr.Number(label=\"income\"),\n",
        "                       gr.Number(label=\"years of employment\"),\n",
        "                       gr.Textbox(label=\"Home Ownership\"),\n",
        "                       gr.Number(label=\"Loan amount\"),\n",
        "                       gr.Textbox(label = \"loan intent\"),\n",
        "                       gr.Number(label=\"Loan interest\"),\n",
        "                       gr.Number(label=\"Loan percent income \"),\n",
        "                       gr.Number(label=\"credit history length\"),\n",
        "                       gr.Number(label=\"Credit score\"),\n",
        "                       gr.Textbox(label=\"previous loan defaults on file \"),\n",
        "                   ],\n",
        "                    outputs = gr.Textbox(label=\"Predictions\"),\n",
        "                    title= \"loan approval predictor\")\n",
        "if __name__ == \"__main__\":\n",
        "    demo.launch()"
      ],
      "metadata": {
        "colab": {
          "base_uri": "https://localhost:8080/",
          "height": 647
        },
        "id": "KalxL_zbVhHJ",
        "outputId": "e7171497-d3d3-4f34-fd03-eee1b3970c9f"
      },
      "execution_count": null,
      "outputs": [
        {
          "output_type": "stream",
          "name": "stdout",
          "text": [
            "It looks like you are running Gradio on a hosted Jupyter notebook, which requires `share=True`. Automatically setting `share=True` (you can turn this off by setting `share=False` in `launch()` explicitly).\n",
            "\n",
            "Colab notebook detected. To show errors in colab notebook, set debug=True in launch()\n",
            "* Running on public URL: https://42adcf7ba877c901b5.gradio.live\n",
            "\n",
            "This share link expires in 1 week. For free permanent hosting and GPU upgrades, run `gradio deploy` from the terminal in the working directory to deploy to Hugging Face Spaces (https://huggingface.co/spaces)\n"
          ]
        },
        {
          "output_type": "display_data",
          "data": {
            "text/plain": [
              "<IPython.core.display.HTML object>"
            ],
            "text/html": [
              "<div><iframe src=\"https://42adcf7ba877c901b5.gradio.live\" width=\"100%\" height=\"500\" allow=\"autoplay; camera; microphone; clipboard-read; clipboard-write;\" frameborder=\"0\" allowfullscreen></iframe></div>"
            ]
          },
          "metadata": {}
        }
      ]
    }
  ]
}